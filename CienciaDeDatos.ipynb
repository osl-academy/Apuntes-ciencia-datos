{
 "cells": [
  {
   "cell_type": "markdown",
   "id": "b369f3b9-139d-49a5-961d-60ca216ff73c",
   "metadata": {},
   "source": [
    "# Sobre el mundo de ciencia de Datos"
   ]
  },
  {
   "cell_type": "markdown",
   "id": "7b2e0801-2fca-4cd0-885f-556f3b620a7f",
   "metadata": {},
   "source": [
    "![imagen ciencia de datos](/home/ever/Im%C3%A1genes/Capturas%20de%20pantalla/Captura%20desde%202023-02-02%2014-58-22.png)"
   ]
  },
  {
   "cell_type": "code",
   "execution_count": null,
   "id": "18b8f54d-fab7-41b2-8580-3f1b8f6bf1bd",
   "metadata": {},
   "outputs": [],
   "source": []
  }
 ],
 "metadata": {
  "kernelspec": {
   "display_name": "Python 3 (ipykernel)",
   "language": "python",
   "name": "python3"
  },
  "language_info": {
   "codemirror_mode": {
    "name": "ipython",
    "version": 3
   },
   "file_extension": ".py",
   "mimetype": "text/x-python",
   "name": "python",
   "nbconvert_exporter": "python",
   "pygments_lexer": "ipython3",
   "version": "3.10.6"
  }
 },
 "nbformat": 4,
 "nbformat_minor": 5
}
