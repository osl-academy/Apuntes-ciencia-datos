{
 "cells": [
  {
   "cell_type": "markdown",
   "id": "e7949b37-0384-4bd0-a9b4-a9aef0fc27ac",
   "metadata": {},
   "source": [
    "## Numpy \n",
    "\n",
    "Numpy: Abreviación para Numerical Python, es usado para trabajar con vectores y matrices.\n"
   ]
  },
  {
   "cell_type": "code",
   "execution_count": 5,
   "id": "1ad76310-1758-4135-b5cb-972e99cde41c",
   "metadata": {},
   "outputs": [
    {
     "name": "stdout",
     "output_type": "stream",
     "text": [
      "[1 2 3 4]\n",
      "1\n",
      "4\n",
      "4\n"
     ]
    }
   ],
   "source": [
    "# Se debe importar la libreria para usar numpy\n",
    "import numpy as np\n",
    "\n",
    "arr = np.array([1,2,3,4])\n",
    "print(arr)\n",
    "print(arr[0])\n",
    "print(arr[-1])\n",
    "print(arr[3])"
   ]
  },
  {
   "cell_type": "code",
   "execution_count": 6,
   "id": "4da20ad8-01bc-46e8-a5d4-47db02814290",
   "metadata": {},
   "outputs": [
    {
     "name": "stdout",
     "output_type": "stream",
     "text": [
      "5\n"
     ]
    }
   ],
   "source": [
    "# Accediendo a elementos de un array\n",
    "arr = np.array([1,2,3,4])\n",
    "print(arr[0]+arr[3])"
   ]
  },
  {
   "cell_type": "code",
   "execution_count": 7,
   "id": "bbf0b71b-6684-49c7-aab3-9041a6f68335",
   "metadata": {},
   "outputs": [
    {
     "name": "stdout",
     "output_type": "stream",
     "text": [
      "[2 3 4 5]\n",
      "[5 6 7]\n",
      "[1 2 3 4]\n",
      "7\n"
     ]
    }
   ],
   "source": [
    "arr = np.array([1, 2, 3, 4, 5, 6, 7])\n",
    "\n",
    "print(arr[1:5]) \n",
    "print(arr[4:]) \n",
    "print(arr[:4]) \n",
    "print(max(arr))"
   ]
  },
  {
   "cell_type": "code",
   "execution_count": 8,
   "id": "0e3e770b-dc38-41d8-8b25-50062e6391e9",
   "metadata": {},
   "outputs": [
    {
     "name": "stdout",
     "output_type": "stream",
     "text": [
      "[0. 0. 0. 0. 0. 0. 0. 0. 0. 0.]\n"
     ]
    }
   ],
   "source": [
    "a = np.zeros(10)\n",
    "print(a)"
   ]
  },
  {
   "cell_type": "code",
   "execution_count": null,
   "id": "3b602d14-ea5f-45c9-8407-2e8b772e8940",
   "metadata": {},
   "outputs": [],
   "source": [
    "c = np.ones(10)\n",
    "print(c)"
   ]
  },
  {
   "cell_type": "code",
   "execution_count": null,
   "id": "c2f8745d-0b51-444d-b0ee-0b2ee14d27a0",
   "metadata": {},
   "outputs": [],
   "source": [
    "# Crear un array desde 2 hasta 10 con 5 elementos\n",
    "lin_a = np.linspace(1,10,5) \n",
    "print(lin_a)"
   ]
  },
  {
   "cell_type": "code",
   "execution_count": null,
   "id": "38bcfa1e-a7a8-4e5c-81fa-418f60f440e3",
   "metadata": {},
   "outputs": [],
   "source": [
    "range_a = np.arange(5)\n",
    "print(range_a)"
   ]
  },
  {
   "cell_type": "code",
   "execution_count": null,
   "id": "6ae12972-9f5d-449b-977e-a6e05a0ef477",
   "metadata": {},
   "outputs": [],
   "source": [
    "A = np.eye(3)\n",
    "print(A)\n",
    "B = np.array([[1,2],[2,4]])\n",
    "print(B)"
   ]
  },
  {
   "cell_type": "code",
   "execution_count": null,
   "id": "69ce254c-28ba-4d3d-ba75-c91e29a3c3bd",
   "metadata": {},
   "outputs": [],
   "source": [
    "a = np.arange(10)\n",
    "b = np.arange(10,20)\n",
    "print(a)\n",
    "print(b) "
   ]
  },
  {
   "cell_type": "code",
   "execution_count": null,
   "id": "f639673b-9fce-4802-b2ab-46c6256329df",
   "metadata": {},
   "outputs": [],
   "source": [
    "print(a+b)"
   ]
  },
  {
   "cell_type": "code",
   "execution_count": null,
   "id": "fe687754-13bf-45de-9e58-7f043ea70b75",
   "metadata": {},
   "outputs": [],
   "source": [
    "print(a*b)"
   ]
  },
  {
   "cell_type": "code",
   "execution_count": null,
   "id": "b85a6b95-df9f-4272-a9e1-503e6131726e",
   "metadata": {},
   "outputs": [],
   "source": [
    "print(a)\n",
    "print(a + 2)"
   ]
  },
  {
   "cell_type": "code",
   "execution_count": null,
   "id": "d0af8c39-9fba-40dd-a497-cf07f6dde5e9",
   "metadata": {},
   "outputs": [],
   "source": [
    "print(a@b)"
   ]
  },
  {
   "cell_type": "markdown",
   "id": "4ab9cc53-1d32-4b1e-8c7c-9bf9c2f2f83e",
   "metadata": {},
   "source": [
    "### Tipos de datos en numpy\n",
    "\n",
    "    i - integer\n",
    "    b - boolean\n",
    "    u - unsigned integer\n",
    "    f - float\n",
    "    c - complex float\n",
    "    m - timedelta\n",
    "    M - datetime\n",
    "    O - object\n",
    "    S - string\n",
    "    U - unicode string\n",
    "    V - fixed chunk of memory for other type ( void )\n"
   ]
  },
  {
   "cell_type": "code",
   "execution_count": null,
   "id": "2dfff670-dcec-4895-9c96-e41b75bf0934",
   "metadata": {},
   "outputs": [],
   "source": [
    "arr = np.array([1, 2, 3, 4])\n",
    "\n",
    "print(arr.dtype) \n",
    "print(type(arr))\n",
    "print(type(arr[0]))"
   ]
  },
  {
   "cell_type": "code",
   "execution_count": null,
   "id": "670d01a9-a9aa-4e2c-a6bc-524d86d7b7f6",
   "metadata": {},
   "outputs": [],
   "source": [
    "arr = np.array([1, 2, 3, 4], dtype='S')\n",
    "print(arr.dtype)"
   ]
  },
  {
   "cell_type": "code",
   "execution_count": null,
   "id": "d5ff68d6-6725-49fb-91cc-f34c96cf6d89",
   "metadata": {},
   "outputs": [],
   "source": [
    "## Copiando arrays\n",
    "arr = np.array([1, 2, 3, 4, 5])\n",
    "x = arr.copy()\n",
    "arr[0] = 42\n",
    "\n",
    "print(arr)\n",
    "print(x) "
   ]
  },
  {
   "cell_type": "code",
   "execution_count": null,
   "id": "766de7f2-a08b-48c5-89a4-35c3df775e4c",
   "metadata": {},
   "outputs": [],
   "source": [
    "arr = np.array([1, 2, 3, 4, 5])\n",
    "x = arr.view()\n",
    "arr[0] = 42\n",
    "\n",
    "print(arr)\n",
    "print(x) "
   ]
  },
  {
   "cell_type": "code",
   "execution_count": null,
   "id": "09a07654-57c7-4b14-943a-33518b37daae",
   "metadata": {},
   "outputs": [],
   "source": [
    "# Dimensiones de un array\n",
    "arr = np.array([[1, 2, 3, 4], [5, 6, 7, 8]])\n",
    "\n",
    "print(arr.shape) "
   ]
  },
  {
   "cell_type": "code",
   "execution_count": null,
   "id": "979a99a6-6b56-45ed-b6ac-250d88994c14",
   "metadata": {},
   "outputs": [],
   "source": [
    "arr = np.array([1, 2, 3, 4, 5, 6, 7, 8])\n",
    "\n",
    "newarr = arr.reshape(2, 4)\n",
    "\n",
    "print(newarr) "
   ]
  },
  {
   "cell_type": "code",
   "execution_count": null,
   "id": "a793213a-9c80-4819-94db-c2abcf36f06c",
   "metadata": {},
   "outputs": [],
   "source": [
    "arr = np.array([[1, 2, 3], [4, 5, 6]])\n",
    "\n",
    "print(arr)\n",
    "\n",
    "newarr = arr.reshape(-1)\n",
    "\n",
    "print(newarr) "
   ]
  },
  {
   "cell_type": "code",
   "execution_count": null,
   "id": "fc5fe596-3bb0-435e-9e79-d585a5f0cd25",
   "metadata": {},
   "outputs": [],
   "source": [
    "# usando for en arrays\n",
    "\n",
    "arr = np.array([[1, 2, 3], [4, 5, 6]])\n",
    "\n",
    "for x in arr:\n",
    "    print(x) "
   ]
  },
  {
   "cell_type": "code",
   "execution_count": null,
   "id": "fe3c52f1-d6e0-4305-a179-197f207c7abc",
   "metadata": {},
   "outputs": [],
   "source": [
    "# Uniendo dos arrays\n",
    "arr1 = np.array([1, 2, 3])\n",
    "\n",
    "arr2 = np.array([4, 5, 6])\n",
    "\n",
    "arr = np.concatenate((arr1, arr2))\n",
    "\n",
    "print(arr) "
   ]
  },
  {
   "cell_type": "code",
   "execution_count": null,
   "id": "9b6a68cd-0b88-4fa4-a043-6b9a3bdde698",
   "metadata": {},
   "outputs": [],
   "source": [
    "\n",
    "arr1 = np.array([[1, 2], [3, 4]])\n",
    "\n",
    "arr2 = np.array([[5, 6], [7, 8]])\n",
    "\n",
    "arr = np.concatenate((arr1, arr2), axis=0)\n",
    "\n",
    "print(arr) "
   ]
  },
  {
   "cell_type": "code",
   "execution_count": null,
   "id": "e12a72ba-8dca-49fc-ab39-6d3ceacc13a9",
   "metadata": {},
   "outputs": [],
   "source": [
    "arr1 = np.array([1, 2, 3])\n",
    "\n",
    "arr2 = np.array([4, 5, 6])\n",
    "\n",
    "arr = np.stack((arr1, arr2), axis=1)\n",
    "\n",
    "print(arr) "
   ]
  },
  {
   "cell_type": "code",
   "execution_count": null,
   "id": "15d709e2-d4c4-4d41-be5f-49a88cf43e35",
   "metadata": {},
   "outputs": [],
   "source": [
    "# Dividir arrays\n",
    "arr = np.array([1, 2, 3, 4, 5, 6])\n",
    "\n",
    "newarr = np.array_split(arr, 3)\n",
    "\n",
    "print(newarr) "
   ]
  },
  {
   "cell_type": "code",
   "execution_count": null,
   "id": "8ab7f8f8-144f-4d56-aaf9-922828199b57",
   "metadata": {},
   "outputs": [],
   "source": [
    "# Busqueda con arrays\n",
    "arr = np.array([1, 2, 3, 4, 5, 4, 4])\n",
    "\n",
    "x = np.where(arr == 4)\n",
    "\n",
    "print(x) "
   ]
  },
  {
   "cell_type": "code",
   "execution_count": null,
   "id": "6ee21ac6-bf9f-4079-9150-a883a3629d54",
   "metadata": {},
   "outputs": [],
   "source": [
    "#Encuentre las posiciones donde los valores sean pares\n",
    "arr = np.array([1, 2, 3, 4, 5, 6, 7, 8])\n",
    "\n",
    "x = np.where(arr%2 == 0)\n",
    "\n",
    "print(x) "
   ]
  },
  {
   "cell_type": "code",
   "execution_count": null,
   "id": "e551ef67-8e3a-4eca-80be-f8a131585fe2",
   "metadata": {},
   "outputs": [],
   "source": [
    "# Ordenando arrays\n",
    "arr = np.array([3, 2, 0, 1])\n",
    "\n",
    "print(np.sort(arr)) "
   ]
  },
  {
   "cell_type": "code",
   "execution_count": null,
   "id": "1c7aeacb-b721-4925-8d52-6c78b5009748",
   "metadata": {},
   "outputs": [],
   "source": [
    "arr = np.array(['banana', 'cherry', 'apple'])\n",
    "\n",
    "print(np.sort(arr)) "
   ]
  },
  {
   "cell_type": "code",
   "execution_count": null,
   "id": "80cc36a1-5784-4057-81e6-f43894e72c64",
   "metadata": {},
   "outputs": [],
   "source": [
    "# Filtrado de datos\n",
    "arr = np.array([41, 42, 43, 44])\n",
    "\n",
    "x = [True, False, True, False]\n",
    "\n",
    "newarr = arr[x]\n",
    "\n",
    "print(newarr) "
   ]
  },
  {
   "cell_type": "code",
   "execution_count": null,
   "id": "c9e43fce-fb26-40cf-b5f9-a9268ee76f47",
   "metadata": {},
   "outputs": [],
   "source": [
    "# Filtrado de datos\n",
    "\n",
    "arr = np.array([41, 42, 43, 44])\n",
    "\n",
    "filter_arr = arr > 42\n",
    "\n",
    "newarr = arr[filter_arr]\n",
    "\n",
    "print(filter_arr)\n",
    "print(newarr) "
   ]
  },
  {
   "cell_type": "code",
   "execution_count": null,
   "id": "478ca8aa-7cbe-4731-aca0-81ed68245963",
   "metadata": {},
   "outputs": [],
   "source": [
    "arr = np.array([1, 2, 3, 4, 5, 6, 7])\n",
    "\n",
    "filter_arr = arr % 2 == 0\n",
    "\n",
    "newarr = arr[filter_arr]\n",
    "\n",
    "print(filter_arr)\n",
    "print(newarr) "
   ]
  },
  {
   "cell_type": "code",
   "execution_count": null,
   "id": "9b65227e-f8ab-4523-a898-692f994f0e46",
   "metadata": {},
   "outputs": [],
   "source": [
    "from skimage import io\n",
    "imagen = io.imread(\"placa_petri.jpeg\")\n",
    "print(imagen)"
   ]
  },
  {
   "cell_type": "code",
   "execution_count": null,
   "id": "5ba0e2c9-eeed-4be0-a303-92fc074ef1d0",
   "metadata": {},
   "outputs": [],
   "source": [
    "print(imagen.shape)"
   ]
  },
  {
   "cell_type": "code",
   "execution_count": null,
   "id": "8d5cc738-eb1c-405a-aadc-d7e8af14452d",
   "metadata": {},
   "outputs": [],
   "source": [
    "import matplotlib.pyplot as plt\n",
    "plt.imshow(imagen)"
   ]
  },
  {
   "cell_type": "code",
   "execution_count": null,
   "id": "0b4ccb5b-a94a-48fa-aea5-9282f15ace3e",
   "metadata": {},
   "outputs": [],
   "source": [
    "plt.imshow(imagen[::-1])"
   ]
  },
  {
   "cell_type": "code",
   "execution_count": null,
   "id": "4cbdd49b-58e8-4280-a889-ecd72858a9ac",
   "metadata": {},
   "outputs": [],
   "source": [
    "imagen2 = np.where(imagen > 100,255,0)\n",
    "plt.imshow(imagen2)"
   ]
  },
  {
   "cell_type": "markdown",
   "id": "b8eb5e7c-f304-4a95-9d56-b1ff7f644403",
   "metadata": {},
   "source": [
    "### Resolviendo ecuaciones \n",
    "$$ a+b = 10$$\n",
    "$$ a-b = 5$$"
   ]
  },
  {
   "cell_type": "markdown",
   "id": "151cb841-24a9-429c-a3c4-4412ce2ded46",
   "metadata": {},
   "source": [
    "$$ M\\cdot X= R $$"
   ]
  },
  {
   "cell_type": "markdown",
   "id": "32110b47-e671-4e7b-8de9-e97772931a5d",
   "metadata": {},
   "source": [
    " $$\\begin{bmatrix} \n",
    "    1 & 1 \\\\\n",
    "    1 &-1\n",
    "    \\end{bmatrix} \\begin{bmatrix} a \\\\ b \\end{bmatrix} = \\begin{bmatrix} 10 \\\\ 5 \\end{bmatrix}$$"
   ]
  },
  {
   "cell_type": "code",
   "execution_count": null,
   "id": "9c0101b6-9d24-4fe4-85bb-7f11ece2eed0",
   "metadata": {},
   "outputs": [],
   "source": [
    "M = np.array([1, 1, 1, -1])\n",
    "M = M.reshape(2,2)\n",
    "R = np.array([10,5])\n",
    "X = np.linalg.solve(M,R)\n",
    "print(X)"
   ]
  },
  {
   "cell_type": "code",
   "execution_count": null,
   "id": "83733de0-826b-405d-86d9-9e1a6c082f73",
   "metadata": {},
   "outputs": [],
   "source": [
    "M_inv = np.linalg.inv(M)\n",
    "print(M_inv)"
   ]
  },
  {
   "cell_type": "code",
   "execution_count": null,
   "id": "59dabb5b-ed8a-431f-9670-cf11c0170bf7",
   "metadata": {},
   "outputs": [],
   "source": [
    "X = np.matmul(M_inv,R)\n",
    "print(X)"
   ]
  }
 ],
 "metadata": {
  "kernelspec": {
   "display_name": "Python 3 (ipykernel)",
   "language": "python",
   "name": "python3"
  },
  "language_info": {
   "codemirror_mode": {
    "name": "ipython",
    "version": 3
   },
   "file_extension": ".py",
   "mimetype": "text/x-python",
   "name": "python",
   "nbconvert_exporter": "python",
   "pygments_lexer": "ipython3",
   "version": "3.10.6"
  }
 },
 "nbformat": 4,
 "nbformat_minor": 5
}
