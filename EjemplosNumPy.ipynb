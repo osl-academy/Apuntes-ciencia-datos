{
 "cells": [
  {
   "cell_type": "code",
   "execution_count": 20,
   "id": "ff234fe8-7b4b-4781-bd3d-e7fe443b31f5",
   "metadata": {},
   "outputs": [],
   "source": [
    "# método de euler para resolvers ecuaciones diferenciales\n",
    "import matplotlib.pyplot as plt \n",
    "\n",
    "def euler(fun, t, z0):\n",
    "    nt = len(t)\n",
    "    h = t[1] - t[0]\n",
    "    z = []\n",
    "    z.append(z0)\n",
    "    \n",
    "    for i, t in enumerate(t):\n",
    "        new_z = z[i] + h*fun(z[i])\n",
    "        z.append(new_z)\n",
    "    z.pop()\n",
    "    return z\n",
    "\n",
    "def edo_enfriamiento(T):\n",
    "    dTdt = -0.2*(T-70)\n",
    "    return dTdt\n",
    "\n",
    "def resolver():\n",
    "    t = [0.1*x for x in range(1000)]\n",
    "    T0 = 35\n",
    "    T = euler(edo_enfriamiento, t, T0)\n",
    "    return t, T\n",
    "\n",
    "def graficar(x, y):\n",
    "    plt.plot(x, y,\"-\", label =\"Temperatura\")\n",
    "    plt.xlabel(\"t\")\n",
    "    plt.ylabel(\"T\")\n",
    "    plt.title(\"Temperatura de enfriamiento\", fontsize = 18)\n",
    "    plt.legend(loc=4)\n",
    "    plt.show()\n"
   ]
  },
  {
   "cell_type": "code",
   "execution_count": 16,
   "id": "79c5f4af-aed1-4272-8c33-67bc250fa787",
   "metadata": {},
   "outputs": [
    {
     "name": "stdout",
     "output_type": "stream",
     "text": [
      "1000 1000\n"
     ]
    }
   ],
   "source": [
    "x, y = resolver()\n",
    "print(len(x), len(y))"
   ]
  },
  {
   "cell_type": "code",
   "execution_count": 21,
   "id": "e6b4324b-ac49-4e15-8d1d-5ed7f81867c7",
   "metadata": {},
   "outputs": [
    {
     "data": {
      "image/png": "[encoded data removed]",
      "text/plain": [
       "<Figure size 640x480 with 1 Axes>"
      ]
     },
     "metadata": {},
     "output_type": "display_data"
    }
   ],
   "source": [
    "graficar(x,y)"
   ]
  },
  {
   "cell_type": "markdown",
   "id": "19046f5d-3780-4186-9707-dc781fc6220c",
   "metadata": {},
   "source": [
    "## Ejemplo Reactores en serie\n",
    "\n",
    "La reacción A -> B toma lugar en dos reactores en serie. Los reactores son de mezcla completa pero no estan en estado estacionario.\n",
    "Las ecuaciones del balance de masa para componente es mostrado abajo para cada reactor :"
   ]
  },
  {
   "cell_type": "markdown",
   "id": "f6cce563-b755-4cf1-8e28-4c9702a4968e",
   "metadata": {},
   "source": [
    "$$ \\frac{dC_{A1}}{dt} = \\frac{1}{\\tau}(C_{A0}-C_{A1})-kC_{A1}$$\n",
    "\n",
    "$$ \\frac{C_{B1}}{dt} = -\\frac{1}{\\tau}C_{B1}+kC_{A1}$$\n",
    "\n",
    "$$ \\frac{dC_{A2}}{dt} = \\frac{1}{\\tau}(C_{A1}-C_{A2})-kC_{A2}$$\n",
    "\n",
    "$$ \\frac{dC_{B2}}{dt} = \\frac{1}{\\tau}(C_{b1}-C_{b2})+kC_{A2}$$"
   ]
  },
  {
   "cell_type": "markdown",
   "id": "0f626e55-db90-4e76-a4e4-52efc893b68e",
   "metadata": {},
   "source": [
    "$$C_{A0} = 20$$\n",
    "\n",
    "$$k = 0.12/min$$\n",
    "\n",
    "$$\\tau = 5 min$$\n",
    "\n",
    "Las demás concentraciones son cero inicialmente. Halle las concentración de A y B en los primeros 10 minutos."
   ]
  },
  {
   "cell_type": "code",
   "execution_count": 23,
   "id": "46ba4086-bb25-4ff8-8c5e-ee1e5fba68cb",
   "metadata": {},
   "outputs": [
    {
     "ename": "NameError",
     "evalue": "name 'reactores' is not defined",
     "output_type": "error",
     "traceback": [
      "\u001b[0;31m---------------------------------------------------------------------------\u001b[0m",
      "\u001b[0;31mNameError\u001b[0m                                 Traceback (most recent call last)",
      "Input \u001b[0;32mIn [23]\u001b[0m, in \u001b[0;36m<cell line: 36>\u001b[0;34m()\u001b[0m\n\u001b[1;32m     33\u001b[0m t \u001b[38;5;241m=\u001b[39m np\u001b[38;5;241m.\u001b[39mlinspace(\u001b[38;5;241m0\u001b[39m, \u001b[38;5;241m80\u001b[39m, \u001b[38;5;241m100\u001b[39m)\n\u001b[1;32m     34\u001b[0m C0 \u001b[38;5;241m=\u001b[39m np\u001b[38;5;241m.\u001b[39marray([\u001b[38;5;241m0\u001b[39m, \u001b[38;5;241m0\u001b[39m, \u001b[38;5;241m0\u001b[39m, \u001b[38;5;241m0\u001b[39m])\n\u001b[0;32m---> 36\u001b[0m C \u001b[38;5;241m=\u001b[39m rungek4(\u001b[43mreactores\u001b[49m\u001b[38;5;241m.\u001b[39medo_reactores,t,C0)\n\u001b[1;32m     38\u001b[0m fig, ax \u001b[38;5;241m=\u001b[39m plt\u001b[38;5;241m.\u001b[39msubplots()\n\u001b[1;32m     40\u001b[0m ax\u001b[38;5;241m.\u001b[39mplot(t, C[:,\u001b[38;5;241m0\u001b[39m] , color \u001b[38;5;241m=\u001b[39m \u001b[38;5;124m\"\u001b[39m\u001b[38;5;124mblue\u001b[39m\u001b[38;5;124m\"\u001b[39m)\n",
      "\u001b[0;31mNameError\u001b[0m: name 'reactores' is not defined"
     ]
    }
   ],
   "source": [
    "import numpy as np\n",
    "\n",
    "def rungek4(fun, t, z0):\n",
    "    nt = len(t)\n",
    "    nz = len(z0)\n",
    "    h = t[1]-t[0]\n",
    "    z = np.zeros((nt, nz))\n",
    "    z[0] = z0\n",
    "\n",
    "    for i in range(1, nt):\n",
    "        m1 = fun(z[i-1])\n",
    "        m2 = fun(z[i-1]+h*m1/2)\n",
    "        m3 = fun(z[i-1]+h*m2/2)\n",
    "        m4 = fun(z[i-1]+h*m3)\n",
    "        z[i] = z[i-1]+h*(m1+2*m2+2*m3+m4)/6\n",
    "    return z\n",
    "\n",
    "def edo_reactores(C):\n",
    "    ## Definimos constantes\n",
    "    tau = 5\n",
    "    k = 0.12\n",
    "    ca0 = 20\n",
    "    \n",
    "    dC = np.zeros(len(C))\n",
    "\n",
    "    dC[0] = 1/tau*(ca0-C[0])-k*C[0]\n",
    "    dC[1] = -1/tau*C[1]+k*C[0]\n",
    "    dC[2] = 1/tau*(C[0]-C[2])-k*C[1]\n",
    "    dC[3] = 1/tau*(C[1]-C[3])+k*C[1]\n",
    "\n",
    "    return dC \n",
    "\n",
    "t = np.linspace(0, 80, 100)\n",
    "C0 = np.array([0, 0, 0, 0])\n",
    "\n",
    "C = rungek4(edo_reactores,t,C0)\n",
    "\n",
    "fig, ax = plt.subplots()\n",
    "\n",
    "ax.plot(t, C[:,0] , color = \"blue\")\n",
    "ax.plot(t, C[:,1] , color = \"red\")\n",
    "ax.plot(t, C[:,2] , color = \"orange\")\n",
    "ax.plot(t, C[:,3] , color = \"green\")\n",
    "\n",
    "ax.set_title(\"Concentración vs tiempo\")\n",
    "ax.set_xlabel(\"t[min]\")\n",
    "ax.set_ylabel(\"C[mol/L]\")\n",
    "ax.grid()\n",
    "plt.show()\n"
   ]
  },
  {
   "cell_type": "markdown",
   "id": "f94ade76-ec32-463a-9e35-e13416c03a57",
   "metadata": {},
   "source": [
    "## Constantes de Antoine para el Benceno\n",
    "\n",
    "Los datos de presión de vapor del Benceno a diferentes estan dadas en la siguiente tabla. Determine sus correspondientes Contantes de Antoine."
   ]
  },
  {
   "cell_type": "markdown",
   "id": "35a3fd53-e9ed-4052-916b-87b7bb4f75f4",
   "metadata": {},
   "source": [
    "Presión (mmHg) : 381.14, 651.61, 1049.81, 1623.85, 2378.89, 3428.7, 4747.43, 6412.65, 8481.25, 11015.28, 502.67, 837.78, 1313.56, 1975.51, 2870.18, 4033.76, 5537.67, 7384.89, 9670.69, 12411.58\n",
    "Temperatura (°C) : -56.67, -45.56, -34.44, -23.33, -12.22, -1.11, 10.0, 21.11, 32.22, 43.33, -51.11, -40.0, -28.89, -17.78, -6.67, 4.44, 15.56, 26.67, 37.78, 48.89 "
   ]
  },
  {
   "cell_type": "markdown",
   "id": "291e4d94-1aa0-4ef0-b995-b5d27cb6d342",
   "metadata": {},
   "source": [
    "La Ecuación de Antoine tiene la forma:\n",
    "\n",
    "$$\\log_{10} P = A-\\frac{B}{T+C}$$\n",
    "\n",
    "Podemos reordenar nuestra ecuación para hallar las constantes a partir de una regresión multilineal.\n",
    "\n",
    "$$T \\cdot \\log_{10}P +C\\cdot \\log_{10}P =A\\cdot T+A\\cdot C-B $$\n",
    "\n",
    "$$ \\log_{10}P=A+\\frac{A\\cdot C-B}{T}-\\frac{C\\cdot \\log_{10}P}{T}$$\n",
    "\n",
    "Hacemos las constantes iguales a    $b_0=A$ ,    $b_1=A\\cdot C-B$ ,    $b_2=-C$ \n",
    "\n",
    "y hacemos cambios de variable     $y=\\log_{10}P$ ,    $x_1=\\frac{1}{T}$,     $x_2=\\frac{\\log_{10}P}{T}$.\n",
    "\n",
    "$$y=b_0+b_1 x_1+b_2 x_2$$\n",
    "\n",
    "Se puede demostrar que las constantes de cualquier regresión multilineal por mínimos cuadrados pueden hallarse a partir de la siguiente relación matricial:\n",
    "\n",
    "$$ \\begin{bmatrix} N \\\\ X_1 \\\\ X_2\\\\ \\vdots \\\\ X_k \\end{bmatrix} \\times \\begin{bmatrix} N^T & X_1^T & X_2^T & \\cdots & X_k^T \\end{bmatrix}\\times \\begin{bmatrix} b_0 \\\\ b_1 \\\\ b_2 \\\\ \\vdots \\\\ b_k \\end{bmatrix}= \\begin{bmatrix} N \\\\ X_1 \\\\ X_2\\\\ \\vdots \\\\ X_k \\end{bmatrix} \\times \\begin{bmatrix} Y^T \\end{bmatrix}$$\n",
    "\n",
    "Donde: \\(k \\): número de variables, \\(n  \\): número de datos que se tiene de cada variable. \n",
    "\n",
    "Recuerde que el vector o matriz transpuesta de cualquier vector \\(X\\) es \\(X^T\\), \n",
    "\n",
    "Los vectores en la fórmula son los siguientes vectores fila:\n",
    "\n",
    "$$ N = \\overbrace {(1, 1, ... , 1)}^ {n \\hspace{1em}unos} \\ $$\n",
    "\n",
    "$$ X_1=(x_{11}, x_{12}, ... , x_{1n})$$\n",
    "\n",
    "$$ X_2=(x_{21}, x_{22}, ... , x_{2n})$$\n",
    "\n",
    "...\n",
    "\n",
    "$$ X_k=(x_{k1}, x_{k2}, ... , x_{kn})$$\n",
    "\n",
    "$$ Y=(y_1, y_2, ... , y_n)$$\n",
    "\n",
    "Podemos simplificar aún más la ecuación \\(\\ref{matriz1}\\), pero se tendría que usar división de matrices o multiplicación matrices inversas no cuadradas (lo cuál sabemos que no se lleva en la universidad), se puede dejar así pero vamos a aprovechar MatLab ya que permite la división de matrices no cuadradas con su operador  de división inversa \"\\\". Así entonces simplificando con inversas de matrices no cuadradas tenemos:\n",
    "\n",
    "$$ \\begin{bmatrix} N^T & X_1^T & X_2^T & \\cdots & X_k^T \\end{bmatrix}\\times \\begin{bmatrix} b_0 \\\\ b_1 \\\\ b_2 \\\\ \\vdots \\\\ b_k \\end{bmatrix}=  \\begin{bmatrix} Y^T \\end{bmatrix}$$\n",
    "\n",
    " $$  \\begin{bmatrix} b_0 \\\\ b_1 \\\\ b_2 \\\\ \\vdots \\\\ b_k \\end{bmatrix}= \\begin{bmatrix} N^T & X_1^T & X_2^T & \\cdots & X_k^T \\end{bmatrix} \\setminus \\begin{bmatrix} Y^T \\end{bmatrix}$$\n",
    "\n",
    "\n",
    "Para determinar el grado de correlación usamos la siguiente fórmula que es conocido como el coeficiente de determinación que es muy usado para verifcar el grado de ajuste en regresiones multilineales.\n",
    "\n",
    "$$R^2 =\\frac{\\displaystyle\\sum_{i=1}^{n}(\\hat{y}_i-\\bar{y})}{\\displaystyle\\sum_{i=1}^{n}(y_i - \\bar{y})}$$\n",
    "\n",
    "PARA ESTE PROBLEMA PARTICULAR \n",
    "$y =\\log_{10}P$, \n",
    "\n",
    "$y_i$ corresponde a logaritmo de cada una de las presiones en nuestros datos, $\\bar{y}$ la promedio de los logaritmos de los datos, e $\\hat{y}_i$ es el valor que obtenemos al aplicar nuestra fórmula de regresión con los valores $x_{1i}$ y $x_{2i}$."
   ]
  },
  {
   "cell_type": "markdown",
   "id": "be7ce5e0-edb8-4f49-b57c-e96217c5011c",
   "metadata": {},
   "source": []
  }
 ],
 "metadata": {
  "kernelspec": {
   "display_name": "Python 3 (ipykernel)",
   "language": "python",
   "name": "python3"
  },
  "language_info": {
   "codemirror_mode": {
    "name": "ipython",
    "version": 3
   },
   "file_extension": ".py",
   "mimetype": "text/x-python",
   "name": "python",
   "nbconvert_exporter": "python",
   "pygments_lexer": "ipython3",
   "version": "3.10.6"
  }
 },
 "nbformat": 4,
 "nbformat_minor": 5
}
