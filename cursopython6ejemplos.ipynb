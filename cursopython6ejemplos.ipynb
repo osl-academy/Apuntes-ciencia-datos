{
 "cells": [
  {
   "cell_type": "code",
   "execution_count": null,
   "id": "ff234fe8-7b4b-4781-bd3d-e7fe443b31f5",
   "metadata": {},
   "outputs": [],
   "source": []
  },
  {
   "cell_type": "markdown",
   "id": "19046f5d-3780-4186-9707-dc781fc6220c",
   "metadata": {},
   "source": [
    "## Ejemplo Reactores en serie\n",
    "\n",
    "La reacción A -> B toma lugar en dos reactores en serie. Los reactores son de mezcla completa pero no estan en estado estacionario.\n",
    "Las ecuaciones del balance de masa para componente es mostrado abajo para cada reactor :"
   ]
  },
  {
   "cell_type": "markdown",
   "id": "f6cce563-b755-4cf1-8e28-4c9702a4968e",
   "metadata": {},
   "source": [
    "$$ \\frac{dC_{A1}}{dt} = \\frac{1}{\\tau}(C_{A0}-C_{A1})-kC_{A1}$$\n",
    "\n",
    "$$ \\frac{C_{B1}}{dt} = -\\frac{1}{\\tau}C_{B1}+kC_{A1}$$\n",
    "\n",
    "$$ \\frac{dC_{A2}}{dt} = \\frac{1}{\\tau}(C_{A1}-C_{A2})-kC_{A2}$$\n",
    "\n",
    "$$ \\frac{dC_{B2}}{dt} = \\frac{1}{\\tau}(C_{b1}-C_{b2})+kC_{A2}$$"
   ]
  },
  {
   "cell_type": "markdown",
   "id": "0f626e55-db90-4e76-a4e4-52efc893b68e",
   "metadata": {},
   "source": [
    "$$C_{A0} = 20$$\n",
    "\n",
    "$$k = 0.12/min$$\n",
    "\n",
    "$$\\tau = 5 min$$\n",
    "\n",
    "Las demás concentraciones son cero inicialmente. Halle las concentración de A y B en los primeros 10 minutos."
   ]
  },
  {
   "cell_type": "markdown",
   "id": "f94ade76-ec32-463a-9e35-e13416c03a57",
   "metadata": {},
   "source": [
    "## Constantes de Antoine para el Benceno\n",
    "\n",
    "Los datos de presión de vapor del Benceno a diferentes estan dadas en la siguiente tabla. Determine sus correspondientes Contantes de Antoine."
   ]
  },
  {
   "cell_type": "markdown",
   "id": "35a3fd53-e9ed-4052-916b-87b7bb4f75f4",
   "metadata": {},
   "source": [
    "Presión (mmHg) : 381.14, 651.61, 1049.81, 1623.85, 2378.89, 3428.7, 4747.43, 6412.65, 8481.25, 11015.28, 502.67, 837.78, 1313.56, 1975.51, 2870.18, 4033.76, 5537.67, 7384.89, 9670.69, 12411.58\n",
    "Temperatura (°C) : -56.67, -45.56, -34.44, -23.33, -12.22, -1.11, 10.0, 21.11, 32.22, 43.33, -51.11, -40.0, -28.89, -17.78, -6.67, 4.44, 15.56, 26.67, 37.78, 48.89 "
   ]
  },
  {
   "cell_type": "markdown",
   "id": "291e4d94-1aa0-4ef0-b995-b5d27cb6d342",
   "metadata": {},
   "source": [
    "La Ecuación de Antoine tiene la forma:\n",
    "\n",
    "$$\\log_{10} P = A-\\frac{B}{T+C}$$\n",
    "\n",
    "Podemos reordenar nuestra ecuación para hallar las constantes a partir de una regresión multilineal.\n",
    "\n",
    "$$T \\cdot \\log_{10}P +C\\cdot \\log_{10}P =A\\cdot T+A\\cdot C-B $$\n",
    "\n",
    "$$ \\log_{10}P=A+\\frac{A\\cdot C-B}{T}-\\frac{C\\cdot \\log_{10}P}{T}$$\n",
    "\n",
    "Hacemos las constantes iguales a    $b_0=A$ ,    $b_1=A\\cdot C-B$ ,    $b_2=-C$ \n",
    "\n",
    "y hacemos cambios de variable     $y=\\log_{10}P$ ,    $x_1=\\frac{1}{T}$,     $x_2=\\frac{\\log_{10}P}{T}$.\n",
    "\n",
    "$$y=b_0+b_1 x_1+b_2 x_2$$\n",
    "\n",
    "Se puede demostrar que las constantes de cualquier regresión multilineal por mínimos cuadrados pueden hallarse a partir de la siguiente relación matricial:\n",
    "\n",
    "$$ \\begin{bmatrix} N \\\\ X_1 \\\\ X_2\\\\ \\vdots \\\\ X_k \\end{bmatrix} \\times \\begin{bmatrix} N^T & X_1^T & X_2^T & \\cdots & X_k^T \\end{bmatrix}\\times \\begin{bmatrix} b_0 \\\\ b_1 \\\\ b_2 \\\\ \\vdots \\\\ b_k \\end{bmatrix}= \\begin{bmatrix} N \\\\ X_1 \\\\ X_2\\\\ \\vdots \\\\ X_k \\end{bmatrix} \\times \\begin{bmatrix} Y^T \\end{bmatrix}$$\n",
    "\n",
    "Donde: \\(k \\): número de variables, \\(n  \\): número de datos que se tiene de cada variable. \n",
    "\n",
    "Recuerde que el vector o matriz transpuesta de cualquier vector \\(X\\) es \\(X^T\\), \n",
    "\n",
    "Los vectores en la fórmula son los siguientes vectores fila:\n",
    "\n",
    "$$ N = \\overbrace {(1, 1, ... , 1)}^ {n \\hspace{1em}unos} \\ $$\n",
    "\n",
    "$$ X_1=(x_{11}, x_{12}, ... , x_{1n})$$\n",
    "\n",
    "$$ X_2=(x_{21}, x_{22}, ... , x_{2n})$$\n",
    "\n",
    "...\n",
    "\n",
    "$$ X_k=(x_{k1}, x_{k2}, ... , x_{kn})$$\n",
    "\n",
    "$$ Y=(y_1, y_2, ... , y_n)$$\n",
    "\n",
    "Podemos simplificar aún más la ecuación \\(\\ref{matriz1}\\), pero se tendría que usar división de matrices o multiplicación matrices inversas no cuadradas (lo cuál sabemos que no se lleva en la universidad), se puede dejar así pero vamos a aprovechar MatLab ya que permite la división de matrices no cuadradas con su operador  de división inversa \"\\\". Así entonces simplificando con inversas de matrices no cuadradas tenemos:\n",
    "\n",
    "$$ \\begin{bmatrix} N^T & X_1^T & X_2^T & \\cdots & X_k^T \\end{bmatrix}\\times \\begin{bmatrix} b_0 \\\\ b_1 \\\\ b_2 \\\\ \\vdots \\\\ b_k \\end{bmatrix}=  \\begin{bmatrix} Y^T \\end{bmatrix}$$\n",
    "\n",
    " $$  \\begin{bmatrix} b_0 \\\\ b_1 \\\\ b_2 \\\\ \\vdots \\\\ b_k \\end{bmatrix}= \\begin{bmatrix} N^T & X_1^T & X_2^T & \\cdots & X_k^T \\end{bmatrix} \\setminus \\begin{bmatrix} Y^T \\end{bmatrix}$$\n",
    "\n",
    "\n",
    "Para determinar el grado de correlación usamos la siguiente fórmula que es conocido como el coeficiente de determinación que es muy usado para verifcar el grado de ajuste en regresiones multilineales.\n",
    "\n",
    "$$R^2 =\\frac{\\displaystyle\\sum_{i=1}^{n}(\\hat{y}_i-\\bar{y})}{\\displaystyle\\sum_{i=1}^{n}(y_i - \\bar{y})}$$\n",
    "\n",
    "PARA ESTE PROBLEMA PARTICULAR \n",
    "$y =\\log_{10}P$, \n",
    "\n",
    "$y_i$ corresponde a logaritmo de cada una de las presiones en nuestros datos, $\\bar{y}$ la promedio de los logaritmos de los datos, e $\\hat{y}_i$ es el valor que obtenemos al aplicar nuestra fórmula de regresión con los valores $x_{1i}$ y $x_{2i}$."
   ]
  },
  {
   "cell_type": "markdown",
   "id": "be7ce5e0-edb8-4f49-b57c-e96217c5011c",
   "metadata": {},
   "source": []
  }
 ],
 "metadata": {
  "kernelspec": {
   "display_name": "Python 3 (ipykernel)",
   "language": "python",
   "name": "python3"
  },
  "language_info": {
   "codemirror_mode": {
    "name": "ipython",
    "version": 3
   },
   "file_extension": ".py",
   "mimetype": "text/x-python",
   "name": "python",
   "nbconvert_exporter": "python",
   "pygments_lexer": "ipython3",
   "version": "3.10.6"
  }
 },
 "nbformat": 4,
 "nbformat_minor": 5
}
