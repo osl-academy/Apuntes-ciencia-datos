{
 "cells": [
  {
   "cell_type": "markdown",
   "id": "c0a1ccec-642f-4c78-97c5-450b04722c54",
   "metadata": {},
   "source": [
    "# Guía de Markdown\n",
    "# GUIA DE MARKDOWN\n",
    "# Título 1\n",
    "\n",
    "Always put a blanck line after and before a title for compatibility\n",
    "\n",
    "## Título 2\n",
    "\n",
    "### Título 3\n",
    "\n",
    "#### Título 4\n",
    "\n",
    "##### Título 5\n",
    "\n",
    "###### Título 6\n",
    "\n",
    "\n",
    "Otro Título\n",
    "=\n",
    "\n",
    "\n",
    "[link](https://exemplo.com/)\n",
    "\n",
    "# Lista de items\n",
    "\n",
    "* Item 1\n",
    "* Item 2\n",
    "* Item 3\n",
    "1. Item 1\n",
    "2. Item 2\n",
    "3. Item 3\n",
    "\n",
    "# Parágrafos\n",
    "Solamente escbiba la línea de parágrafos \n",
    "y ya está\n",
    "\n",
    "**negrita**\n",
    "\n",
    "_italic_\n",
    "\n",
    "__*ambos*__ \n",
    "\n",
    "> Saludos humanos\n",
    ">\n",
    ">> Aqui otra vex\n",
    "> Saludos otra vez\n",
    "\n",
    "Some image\n",
    "\n",
    "![Descripción de imágen](placa_petri.jpeg)\n",
    "\n",
    "`Este` es como se pone una línea de código\n",
    "\n",
    "```python\n",
    "print(\"Hello World!\")\n",
    "```"
   ]
  },
  {
   "cell_type": "code",
   "execution_count": null,
   "id": "1ef8a6f2-8986-4f0a-b712-0d8bc8c748f5",
   "metadata": {},
   "outputs": [],
   "source": []
  }
 ],
 "metadata": {
  "kernelspec": {
   "display_name": "Python 3 (ipykernel)",
   "language": "python",
   "name": "python3"
  },
  "language_info": {
   "codemirror_mode": {
    "name": "ipython",
    "version": 3
   },
   "file_extension": ".py",
   "mimetype": "text/x-python",
   "name": "python",
   "nbconvert_exporter": "python",
   "pygments_lexer": "ipython3",
   "version": "3.10.6"
  }
 },
 "nbformat": 4,
 "nbformat_minor": 5
}
