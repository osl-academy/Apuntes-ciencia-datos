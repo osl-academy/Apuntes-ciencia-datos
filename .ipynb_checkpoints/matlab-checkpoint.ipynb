{
 "cells": [
  {
   "cell_type": "raw",
   "id": "57d5abe2-8751-463e-8400-4d3b7c62df5d",
   "metadata": {},
   "source": [
    "---\n",
    "title: \"Quarto Octave\"\n",
    "format: \n",
    "    html:\n",
    "        code-fold: true\n",
    "        html-math-method: mathjax\n",
    "    \n",
    "highlight-style: pygments\n",
    "jupyter: python3\n",
    "---"
   ]
  },
  {
   "cell_type": "code",
   "execution_count": 1,
   "id": "86987cd3-f804-441f-ab13-2eb6c7af8526",
   "metadata": {},
   "outputs": [],
   "source": [
    "A = [1 2 3 4];\n",
    "B = [2 4 6 8];\n"
   ]
  },
  {
   "cell_type": "code",
   "execution_count": 2,
   "id": "c0ce7a90-4b45-4b6c-b682-e41d20ea2ef4",
   "metadata": {},
   "outputs": [
    {
     "name": "stdout",
     "output_type": "stream",
     "text": [
      "A =\n",
      "\n",
      "   1   2   3   4\n",
      "\n"
     ]
    }
   ],
   "source": [
    "A"
   ]
  },
  {
   "cell_type": "markdown",
   "id": "69bc46dc-1386-4b84-8ddd-1f8b7495de87",
   "metadata": {},
   "source": [
    "# Ejemplos de Matlab\n",
    "\n",
    "Este un breve ejemplo de matlab"
   ]
  },
  {
   "cell_type": "code",
   "execution_count": 3,
   "id": "bca2e583-af60-4622-9d14-85579d4aebcb",
   "metadata": {},
   "outputs": [
    {
     "name": "stdout",
     "output_type": "stream",
     "text": [
      "ans = 8\n"
     ]
    }
   ],
   "source": [
    "3+5"
   ]
  },
  {
   "cell_type": "code",
   "execution_count": 4,
   "id": "037295e9-7a69-42fd-8a41-20a135595742",
   "metadata": {},
   "outputs": [],
   "source": [
    "function f = SJ(Re, eps)\n",
    "    f = eps/3.7 + 5.74/Re^0.9;\n",
    "    f = log10(f)^2\n",
    "    f = 0.25/f;\n",
    "end"
   ]
  },
  {
   "cell_type": "code",
   "execution_count": 5,
   "id": "40c161b9-5855-4369-a589-9036d1b825f1",
   "metadata": {},
   "outputs": [
    {
     "name": "stdout",
     "output_type": "stream",
     "text": [
      "f = 13.548\n",
      "ans = 0.018452\n"
     ]
    }
   ],
   "source": [
    "SJ(1e5, 1e-4)"
   ]
  },
  {
   "cell_type": "code",
   "execution_count": 8,
   "id": "88435560-0755-450b-b503-08abefd5a764",
   "metadata": {},
   "outputs": [
    {
     "name": "stdout",
     "output_type": "stream",
     "text": [
      "ans = 6.4.0\n"
     ]
    }
   ],
   "source": [
    "version"
   ]
  },
  {
   "cell_type": "code",
   "execution_count": 11,
   "id": "24a7ee71-e214-491e-80af-beb668f7d00f",
   "metadata": {},
   "outputs": [],
   "source": [
    "function z = busquedabin(y, x)\n",
    "    n = length(x);\n",
    "    m = floor(n/2);\n",
    "    a = 0;\n",
    "    b = n;\n",
    "    while 1\n",
    "        if x(m) == y\n",
    "            z = m;\n",
    "            return\n",
    "        end\n",
    "        if x(m)<y && y<x(m+1)\n",
    "            z = m;\n",
    "            return\n",
    "        end\n",
    "        if y<x(m)\n",
    "            b = m;\n",
    "        else\n",
    "            a = m;\n",
    "        end\n",
    "        m = ceil((b+a)/2);\n",
    "    end\n",
    "end"
   ]
  },
  {
   "cell_type": "code",
   "execution_count": 13,
   "id": "9c70e5d3-85b4-4f60-a09d-584f58d8ecfa",
   "metadata": {},
   "outputs": [
    {
     "name": "stdout",
     "output_type": "stream",
     "text": [
      "ans = 3\n"
     ]
    }
   ],
   "source": [
    "x = [1 2 5 36 85];\n",
    "y = 20;\n",
    "busquedabin(y,x)"
   ]
  },
  {
   "cell_type": "markdown",
   "id": "616fd648-c715-4be9-baa3-933f0a86f4fe",
   "metadata": {},
   "source": [
    "### First equation\n",
    "$$\n",
    "\\frac{1}{x+1} = y^3_5\n",
    "$$"
   ]
  },
  {
   "cell_type": "markdown",
   "id": "bd1c62c8-84dc-4cb1-8714-563eadec876d",
   "metadata": {},
   "source": [
    "$$\n",
    "x = y + 1\n",
    "$$"
   ]
  }
 ],
 "metadata": {
  "kernelspec": {
   "display_name": "Octave",
   "language": "octave",
   "name": "octave"
  },
  "language_info": {
   "file_extension": ".m",
   "help_links": [
    {
     "text": "GNU Octave",
     "url": "https://www.gnu.org/software/octave/support.html"
    },
    {
     "text": "Octave Kernel",
     "url": "https://github.com/Calysto/octave_kernel"
    },
    {
     "text": "MetaKernel Magics",
     "url": "https://metakernel.readthedocs.io/en/latest/source/README.html"
    }
   ],
   "mimetype": "text/x-octave",
   "name": "octave",
   "version": "6.4.0"
  }
 },
 "nbformat": 4,
 "nbformat_minor": 5
}
